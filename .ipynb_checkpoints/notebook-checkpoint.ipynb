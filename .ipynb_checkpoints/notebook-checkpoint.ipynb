{
 "cells": [
  {
   "cell_type": "markdown",
   "metadata": {
    "_cell_guid": "f2461361-c410-429f-8099-b5cd99a2289a",
    "_uuid": "16b0f3752719a647c09e7a3bd503e974f1872b10",
    "deletable": true,
    "editable": true
   },
   "source": [
    "# High-level overview\n",
    "#### This is so tha I can get to grips with the 'shape' of the data and understand its layout. It's a little explicit but will hopefully be useful for new team member."
   ]
  },
  {
   "cell_type": "markdown",
   "metadata": {
    "_cell_guid": "ba15471f-3b44-4685-ab27-4144392ee1ed",
    "_uuid": "68eadc3a37db177a54aaf44044d53d588101dab4",
    "deletable": true,
    "editable": true
   },
   "source": [
    "### Try first 1,000 lines"
   ]
  },
  {
   "cell_type": "markdown",
   "metadata": {
    "_cell_guid": "49161541-e488-4994-9415-d9bd5521efb8",
    "_uuid": "983c799aebcef4f0f39df3a98fdaba8d88b24f9e",
    "deletable": true,
    "editable": true
   },
   "source": [
    "Create shortened copy of data--I also experienced much crashing!"
   ]
  },
  {
   "cell_type": "code",
   "execution_count": 3,
   "metadata": {
    "_cell_guid": "43816109-e6e7-43fa-9582-3fd7d4775f7c",
    "_execution_state": "idle",
    "_uuid": "44008c089a9a396861f9f9d2db731e15899dc4d9",
    "collapsed": true,
    "deletable": true,
    "editable": true
   },
   "outputs": [],
   "source": [
    "! head -n 1000 ../input/train_1.csv > copytrain1000.csv"
   ]
  },
  {
   "cell_type": "markdown",
   "metadata": {
    "_cell_guid": "c016f1b2-41aa-4916-9cb7-0f63618705a2",
    "_uuid": "31b3f3902eaf5e154ae98e765cae61d5abebeff1",
    "deletable": true,
    "editable": true
   },
   "source": [
    "## Role of columns\n",
    "0. Page name\n",
    "1... Traffic per day"
   ]
  },
  {
   "cell_type": "code",
   "execution_count": 4,
   "metadata": {
    "_cell_guid": "62fd3580-b156-4833-bc66-cb6463877034",
    "_execution_state": "idle",
    "_uuid": "1a164d97805630a3756016890e6b1563267820eb",
    "collapsed": true,
    "deletable": true,
    "editable": true
   },
   "outputs": [],
   "source": [
    "# import data into pandas datafram\n",
    "import pandas as pd\n",
    "chunk1 = pd.read_csv('copytrain1000.csv')\n",
    "# get ourselves a usable chunk with interesting names\n",
    "exploratory_chunk = chunk1[12:17]\n",
    "# is there a neater way of doing the below? I wanted a 'range' of the columns\n",
    "print(exploratory_chunk[exploratory_chunk.columns[0:3]])"
   ]
  },
  {
   "cell_type": "markdown",
   "metadata": {
    "_cell_guid": "64433668-da33-4640-9dda-3735c19d44ea",
    "_uuid": "86bd45585f3e853d39d5379635c21268baf6e6e3",
    "deletable": true,
    "editable": true
   },
   "source": [
    "## Anatomy of page name\n",
    "NameOfArticle_WhichWikiPediaProject_Type_Agent"
   ]
  },
  {
   "cell_type": "code",
   "execution_count": 5,
   "metadata": {
    "_cell_guid": "84239a12-7205-4e92-b055-b8084b393c25",
    "_execution_state": "idle",
    "_uuid": "bccc63d6915920831b54c96308740599aecdfd90",
    "collapsed": true,
    "deletable": true,
    "editable": true
   },
   "outputs": [],
   "source": [
    "exploratory_chunk['Page']"
   ]
  },
  {
   "cell_type": "markdown",
   "metadata": {
    "_cell_guid": "c602131c-6444-428b-aac2-3e97f37feda9",
    "_uuid": "e5ad342b3464ccc01e4bb81c46de0f753eea8688",
    "deletable": true,
    "editable": true
   },
   "source": [
    "#### Looks like the first 1,000 are all spiders. Are they likely to be a useful predictor? On the one hand they're not humans, but they are indicators of links to pages if I understand correctly. That may indirectly make them helpful."
   ]
  },
  {
   "cell_type": "code",
   "execution_count": 6,
   "metadata": {
    "_cell_guid": "6c63b03e-3590-47eb-aa07-b74938873045",
    "_execution_state": "idle",
    "_uuid": "56ac8a4b534c2bf9c60733de545f43cf08289261",
    "collapsed": true,
    "deletable": true,
    "editable": true
   },
   "outputs": [],
   "source": [
    "[page_name for page_name in exploratory_chunk['Page'].values if 'spider' not in page_name]"
   ]
  },
  {
   "cell_type": "markdown",
   "metadata": {
    "_cell_guid": "314a3e43-4846-4e39-b945-aeffd7745a50",
    "_uuid": "b92c8c2953e859bf5dffdbeb616e03d35deba492",
    "deletable": true,
    "editable": true
   },
   "source": [
    "#### They're also all from Chinese Wikipedia, which scuppers a quick logistic regression on pages from en.wikipedia.org with this data."
   ]
  },
  {
   "cell_type": "code",
   "execution_count": 7,
   "metadata": {
    "_cell_guid": "b35a1808-262d-4249-8bf1-ccaca3726574",
    "_execution_state": "idle",
    "_uuid": "8a1975cb65dd38bae78dcb2b544eaab5217f825f",
    "collapsed": true,
    "deletable": true,
    "editable": true
   },
   "outputs": [],
   "source": [
    "[page_name for page_name in exploratory_chunk['Page'].values if 'zh.wikipedia.org' not in page_name]"
   ]
  },
  {
   "cell_type": "markdown",
   "metadata": {
    "_cell_guid": "cd4eba14-afe1-4336-bfcf-ce98272573be",
    "_uuid": "0b531e46a40b0e67dfed1ab2d8178b1ef28ab29b",
    "deletable": true,
    "editable": true
   },
   "source": [
    "## Try other pages\n",
    "Total of 145,064 pages"
   ]
  },
  {
   "cell_type": "code",
   "execution_count": 8,
   "metadata": {
    "_cell_guid": "1c051075-4e8a-4eda-9ae0-409ef6666853",
    "_execution_state": "idle",
    "_uuid": "78a61f9a41927440de172dcdd5c9c33ee06ef41e",
    "collapsed": true,
    "deletable": true,
    "editable": true
   },
   "outputs": [],
   "source": [
    "! wc ../input/train_1.csv"
   ]
  },
  {
   "cell_type": "code",
   "execution_count": 9,
   "metadata": {
    "_cell_guid": "f8f34938-e6ad-403a-bc78-d64eea7d478a",
    "_execution_state": "idle",
    "_uuid": "ad04557106fe59b2bfd56b44df9d6aa460f3949e",
    "collapsed": true,
    "deletable": true,
    "editable": true
   },
   "outputs": [],
   "source": [
    "! head -n 1 ../input/train_1.csv > copyTrain_chunk2.csv\n",
    "! head -n 20000 ../input/train_1.csv | tail -n 1000 >> copyTrain_chunk2.csv"
   ]
  },
  {
   "cell_type": "markdown",
   "metadata": {
    "_cell_guid": "09ee4f0c-9eac-4463-9062-2abdb9a1f5a3",
    "_uuid": "07430fd73c28547273a1435fbe0ab9dfb0dd0c3d",
    "deletable": true,
    "editable": true
   },
   "source": [
    "### We've hit Russia!\n",
    "Perhaps we could work on the tight limit by chunking by region?"
   ]
  },
  {
   "cell_type": "code",
   "execution_count": 10,
   "metadata": {
    "_cell_guid": "ef4c7c12-b12f-4181-8e7a-fd549df57abc",
    "_execution_state": "idle",
    "_uuid": "82582776cbc1e2bc1d2e6fe1f72593e8694cdbb5",
    "collapsed": true,
    "deletable": true,
    "editable": true
   },
   "outputs": [],
   "source": [
    "chunk2 = pd.read_csv('copyTrain_chunk2.csv')\n",
    "print(chunk2.head()['Page'])"
   ]
  },
  {
   "cell_type": "markdown",
   "metadata": {
    "_cell_guid": "558bf95d-58f8-48c5-90c4-3757ca92949e",
    "_uuid": "cf743076d82c3a07e8b4239e6632d2c669772402",
    "deletable": true,
    "editable": true
   },
   "source": [
    "### No spiders in this chunk"
   ]
  },
  {
   "cell_type": "code",
   "execution_count": 11,
   "metadata": {
    "_cell_guid": "44c6d9a2-1e5c-498a-8839-0b023da57d67",
    "_execution_state": "idle",
    "_uuid": "6f0f9d0083721c721e30a6bd6d3fb5ea5c4615ad",
    "collapsed": true,
    "deletable": true,
    "editable": true
   },
   "outputs": [],
   "source": [
    "len([page_name for page_name in chunk2['Page'].values if 'spider' not in page_name])"
   ]
  },
  {
   "cell_type": "markdown",
   "metadata": {
    "_cell_guid": "2751d2b0-67de-45b8-aa1e-97356e1d8923",
    "_uuid": "cb6f9f8dfad26aefcfd910e030ea96cad4f44e74",
    "deletable": true,
    "editable": true
   },
   "source": [
    "## Merge them in order to make some kind of comparison"
   ]
  },
  {
   "cell_type": "code",
   "execution_count": 12,
   "metadata": {
    "_cell_guid": "bc067fcf-8226-434b-9395-9942a247e0a6",
    "_execution_state": "idle",
    "_uuid": "aeafa26b22dec02c09ce26096d610b86e5fa1801",
    "collapsed": true,
    "deletable": true,
    "editable": true
   },
   "outputs": [],
   "source": [
    "both_chunks = pd.concat([chunk1, chunk2], keys=['china', 'russia'])\n",
    "print(both_chunks[0:5]['Page'])\n",
    "print(both_chunks[999:1004]['Page'])"
   ]
  },
  {
   "cell_type": "code",
   "execution_count": 13,
   "metadata": {
    "_cell_guid": "267b19ca-63d0-49a5-9062-a90fabe1c7ee",
    "_execution_state": "idle",
    "_uuid": "b6c435761c9b17e9f0485fc2ca4e253027dc6bbf",
    "collapsed": true,
    "deletable": true,
    "editable": true
   },
   "outputs": [],
   "source": [
    "# Just making it easier to read\n",
    "both_chunks = both_chunks.drop(both_chunks.columns[2:], axis=1).dropna()"
   ]
  },
  {
   "cell_type": "code",
   "execution_count": 14,
   "metadata": {
    "_cell_guid": "fa68b89b-4989-46eb-8bda-e67bb1fc39fc",
    "_execution_state": "idle",
    "_uuid": "2d36656daf8b81a243881f7df26a7d0566b8b984",
    "collapsed": false,
    "deletable": true,
    "editable": true
   },
   "outputs": [],
   "source": [
    "# Compare by spiders!\n",
    "both_chunks['spider'] = 0\n",
    "both_chunks.ix[both_chunks.Page.str.contains('spider'), 'spider'] = 1"
   ]
  },
  {
   "cell_type": "code",
   "execution_count": 19,
   "metadata": {
    "_cell_guid": "cfdc342d-be1c-4a7f-bae3-d16e8a3141a2",
    "_execution_state": "idle",
    "_uuid": "9d564042d0190fb7e8e6021e221353c923137931",
    "collapsed": false,
    "deletable": true,
    "editable": true
   },
   "outputs": [],
   "source": [
    "# Have a punt!\n",
    "from sklearn.linear_model import LogisticRegression\n",
    "LR = LogisticRegression()\n",
    "x = both_chunks.drop(['Page', '2015-07-01'], axis=1)\n",
    "y = both_chunks['2015-07-01']\n",
    "LR.fit(x, y)\n",
    "LR.score(x, y)"
   ]
  },
  {
   "cell_type": "markdown",
   "metadata": {
    "_cell_guid": "8d770c78-927f-429a-9800-77a73cd0fab3",
    "_execution_state": "idle",
    "_uuid": "30c2dc7d61852dc7b73ab13d115b3218b205f40e",
    "collapsed": false,
    "deletable": true,
    "editable": true
   },
   "source": [
    "## With the whole thing?!"
   ]
  },
  {
   "cell_type": "code",
   "execution_count": 22,
   "metadata": {
    "_cell_guid": "e69db840-61fe-470c-a9ec-1a1487164967",
    "_execution_state": "idle",
    "_uuid": "d3120a6f93917c41f66bd194b15e571e250808b8",
    "collapsed": false,
    "deletable": true,
    "editable": true
   },
   "outputs": [],
   "source": [
    "# Get the data and tidy it up\n",
    "df = pd.read_csv('../input/train_1.csv')\n",
    "df = df.drop(df.columns[2:], axis=1).dropna()\n",
    "# Add spider variable\n",
    "df['spider'] = 0\n",
    "df.ix[df.Page.str.contains('spider'), 'spider'] = 1"
   ]
  },
  {
   "cell_type": "code",
   "execution_count": null,
   "metadata": {
    "_cell_guid": "2b2bd761-9ceb-494e-8166-eb204d05d102",
    "_execution_state": "idle",
    "_uuid": "d55e1c072d479a91bbf2ea1b09233eae54e0b00c",
    "collapsed": false,
    "deletable": true,
    "editable": true
   },
   "outputs": [],
   "source": [
    "# Have a punt!\n",
    "dfLR = LogisticRegression()\n",
    "x = df.drop(['Page', '2015-07-01'], axis=1)\n",
    "y = df['2015-07-01']\n",
    "LR.fit(x, y)\n",
    "LR.score(x, y)"
   ]
  }
 ],
 "metadata": {
  "kernelspec": {
   "display_name": "Python 3",
   "language": "python",
   "name": "python3"
  },
  "language_info": {
   "codemirror_mode": {
    "name": "ipython",
    "version": 3
   },
   "file_extension": ".py",
   "mimetype": "text/x-python",
   "name": "python",
   "nbconvert_exporter": "python",
   "pygments_lexer": "ipython3",
   "version": "3.5.2"
  },
  "widgets": {
   "application/vnd.jupyter.widget-state+json": {
    "state": {},
    "version_major": 1,
    "version_minor": 0
   }
  }
 },
 "nbformat": 4,
 "nbformat_minor": 2
}
