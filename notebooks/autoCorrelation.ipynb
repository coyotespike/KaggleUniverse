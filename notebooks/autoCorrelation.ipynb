{
  "nbformat_minor": 1,
  "metadata": {
    "language_info": {
      "name": "python",
      "version": "3.6.1",
      "mimetype": "text/x-python",
      "codemirror_mode": {
        "name": "ipython",
        "version": 3
      },
      "pygments_lexer": "ipython3",
      "nbconvert_exporter": "python",
      "file_extension": ".py"
    },
    "kernelspec": {
      "display_name": "Python 3",
      "language": "python",
      "name": "python3"
    }
  },
  "cells": [
    {
      "outputs": [],
      "cell_type": "code",
      "execution_count": null,
      "source": "import numpy as np\nimport pandas as pd\nimport statsmodels.api as sm\nimport matplotlib.pyplot as plt\n\nfrom subprocess import check_output\nprint(check_output([\"ls\", \"../input\"]).decode(\"utf8\"))",
      "metadata": {
        "_uuid": "97e94414c7bdd4667632ca4a449b10e47673b55b",
        "_cell_guid": "799507b1-e5e1-4ee8-ad54-34f5697e90f2",
        "trusted": false
      }
    },
    {
      "outputs": [],
      "cell_type": "code",
      "execution_count": null,
      "source": "print('Reading data...')\nkey_1 = pd.read_csv('../input/key_1.csv')\ntrain_1 = pd.read_csv('../input/train_1.csv')\nss_1 = pd.read_csv('../input/sample_submission_1.csv')\n\nprint ('Data has been read')",
      "metadata": {
        "_uuid": "2e0fc53e6897e06730949a7f6499da414bfbf318",
        "_cell_guid": "fcdd7a88-89b6-4138-9425-7349b3d13eb3",
        "trusted": false
      }
    },
    {
      "outputs": [],
      "cell_type": "code",
      "execution_count": null,
      "source": "series = train_1.iloc[0]\nseries = series[1:]\nfrom pandas.tools.plotting import lag_plot\n\nfrom pandas.tools.plotting import autocorrelation_plot\nfrom pandas import DataFrame\nfrom pandas import concat\n\n# lag_plot(series)\n# series.plot()\n# autocorrelation_plot(series)\n# plt.show()\ntrain_1.iloc(2)[1:]",
      "metadata": {
        "_uuid": "7572f69d84d80b4cfa054d0200e8ab841d206ee5",
        "_cell_guid": "ddef7858-d4d7-45b7-a737-cba4719e652b",
        "trusted": false
      }
    }
  ],
  "nbformat": 4
}