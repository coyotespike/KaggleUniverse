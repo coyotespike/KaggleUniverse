{
 "cells": [
  {
   "cell_type": "markdown",
   "metadata": {
    "_cell_guid": "b9500ed4-088f-4141-8aa2-3e1681e9c50b",
    "_execution_state": "idle",
    "_uuid": "12d28ee4696d6d7be82e4c5ab6f2efe3a724273c",
    "deletable": true,
    "editable": true
   },
   "source": [
    "# Problems with this notebook\n",
    "1. It does nothing intelligent with the days but simply whacks them all into one model;\n",
    "2. It uses atypical seasonal data (Christmas/New Year);\n",
    "3. It puts the same result for every predicted day in the output (just puts in a general page prediction);\n",
    "4. Please add more...\n",
    "\n",
    "# Next steps\n",
    "My intuition is that we need to know what pages in the key we're dealing with and what dates. I recommend splitting (as I have at the moment) out the first column into two new columns giving us that information.\n",
    "\n",
    "Then, I think we put non-date-specific page predictions into each row and use them to make a new set of preditions based on them *and* the date to give us a final Visits column.\n",
    "\n",
    "# Current score\n",
    "86.1 already a big improvement on previous, but hasn't changed my place as a load of new people have jumped in with slightly lower scores.\n",
    "\n",
    "### Tips\n",
    "This can be uploaded to Kaggle (using the up cloud button) and will work there once you add this competition's dataset, as the data is also stored in ../input/. You can download it to work on your own machine tinker with output etc. and, of course, to commit."
   ]
  },
  {
   "cell_type": "code",
   "execution_count": 6,
   "metadata": {
    "_cell_guid": "092bedd9-d0e1-4eff-9540-6f0bcbc44e73",
    "_execution_state": "idle",
    "_uuid": "4c0caa7ae3efd9c156e75dd30f1c07229ba0fe96",
    "collapsed": true,
    "deletable": true,
    "editable": true
   },
   "outputs": [],
   "source": [
    "# Handy shizzle\n",
    "import pandas as pd\n",
    "from sklearn.linear_model import LinearRegression"
   ]
  },
  {
   "cell_type": "markdown",
   "metadata": {
    "_cell_guid": "4113ac46-388e-44a6-928b-b3c247efd168",
    "_uuid": "b215086d572653dba97cf0ddd299e6afe42bcbe5",
    "deletable": true,
    "editable": true
   },
   "source": [
    "## Weekday/end means for whole period"
   ]
  },
  {
   "cell_type": "code",
   "execution_count": 7,
   "metadata": {
    "_cell_guid": "ca4964cf-4e1a-45cf-9f08-540eaeb2ed90",
    "_execution_state": "idle",
    "_uuid": "e72a69c935bdfdafc81059fb0f88d4811a9ad6a5",
    "collapsed": false,
    "deletable": true,
    "editable": true
   },
   "outputs": [
    {
     "data": {
      "text/html": [
       "<div>\n",
       "<table border=\"1\" class=\"dataframe\">\n",
       "  <thead>\n",
       "    <tr style=\"text-align: right;\">\n",
       "      <th></th>\n",
       "      <th>Page</th>\n",
       "      <th>2015-07-02</th>\n",
       "      <th>2015-07-03</th>\n",
       "      <th>2015-07-04</th>\n",
       "      <th>2015-07-05</th>\n",
       "      <th>2015-07-06</th>\n",
       "      <th>2015-07-07</th>\n",
       "      <th>2015-07-08</th>\n",
       "      <th>2015-07-09</th>\n",
       "      <th>2015-07-10</th>\n",
       "      <th>...</th>\n",
       "      <th>2016-12-22</th>\n",
       "      <th>2016-12-23</th>\n",
       "      <th>2016-12-24</th>\n",
       "      <th>2016-12-25</th>\n",
       "      <th>2016-12-26</th>\n",
       "      <th>2016-12-27</th>\n",
       "      <th>2016-12-28</th>\n",
       "      <th>2016-12-29</th>\n",
       "      <th>2016-12-30</th>\n",
       "      <th>2016-12-31</th>\n",
       "    </tr>\n",
       "  </thead>\n",
       "  <tbody>\n",
       "    <tr>\n",
       "      <th>0</th>\n",
       "      <td>2NE1_zh.wikipedia.org_all-access_spider</td>\n",
       "      <td>11.0</td>\n",
       "      <td>5.0</td>\n",
       "      <td>13.0</td>\n",
       "      <td>14.0</td>\n",
       "      <td>9.0</td>\n",
       "      <td>9.0</td>\n",
       "      <td>22.0</td>\n",
       "      <td>26.0</td>\n",
       "      <td>24.0</td>\n",
       "      <td>...</td>\n",
       "      <td>32.0</td>\n",
       "      <td>63.0</td>\n",
       "      <td>15.0</td>\n",
       "      <td>26.0</td>\n",
       "      <td>14.0</td>\n",
       "      <td>20.0</td>\n",
       "      <td>22.0</td>\n",
       "      <td>19.0</td>\n",
       "      <td>18.0</td>\n",
       "      <td>20.0</td>\n",
       "    </tr>\n",
       "    <tr>\n",
       "      <th>1</th>\n",
       "      <td>2PM_zh.wikipedia.org_all-access_spider</td>\n",
       "      <td>14.0</td>\n",
       "      <td>15.0</td>\n",
       "      <td>18.0</td>\n",
       "      <td>11.0</td>\n",
       "      <td>13.0</td>\n",
       "      <td>22.0</td>\n",
       "      <td>11.0</td>\n",
       "      <td>10.0</td>\n",
       "      <td>4.0</td>\n",
       "      <td>...</td>\n",
       "      <td>17.0</td>\n",
       "      <td>42.0</td>\n",
       "      <td>28.0</td>\n",
       "      <td>15.0</td>\n",
       "      <td>9.0</td>\n",
       "      <td>30.0</td>\n",
       "      <td>52.0</td>\n",
       "      <td>45.0</td>\n",
       "      <td>26.0</td>\n",
       "      <td>20.0</td>\n",
       "    </tr>\n",
       "    <tr>\n",
       "      <th>2</th>\n",
       "      <td>3C_zh.wikipedia.org_all-access_spider</td>\n",
       "      <td>0.0</td>\n",
       "      <td>1.0</td>\n",
       "      <td>1.0</td>\n",
       "      <td>0.0</td>\n",
       "      <td>4.0</td>\n",
       "      <td>0.0</td>\n",
       "      <td>3.0</td>\n",
       "      <td>4.0</td>\n",
       "      <td>4.0</td>\n",
       "      <td>...</td>\n",
       "      <td>3.0</td>\n",
       "      <td>1.0</td>\n",
       "      <td>1.0</td>\n",
       "      <td>7.0</td>\n",
       "      <td>4.0</td>\n",
       "      <td>4.0</td>\n",
       "      <td>6.0</td>\n",
       "      <td>3.0</td>\n",
       "      <td>4.0</td>\n",
       "      <td>17.0</td>\n",
       "    </tr>\n",
       "    <tr>\n",
       "      <th>3</th>\n",
       "      <td>4minute_zh.wikipedia.org_all-access_spider</td>\n",
       "      <td>13.0</td>\n",
       "      <td>10.0</td>\n",
       "      <td>94.0</td>\n",
       "      <td>4.0</td>\n",
       "      <td>26.0</td>\n",
       "      <td>14.0</td>\n",
       "      <td>9.0</td>\n",
       "      <td>11.0</td>\n",
       "      <td>16.0</td>\n",
       "      <td>...</td>\n",
       "      <td>32.0</td>\n",
       "      <td>10.0</td>\n",
       "      <td>26.0</td>\n",
       "      <td>27.0</td>\n",
       "      <td>16.0</td>\n",
       "      <td>11.0</td>\n",
       "      <td>17.0</td>\n",
       "      <td>19.0</td>\n",
       "      <td>10.0</td>\n",
       "      <td>11.0</td>\n",
       "    </tr>\n",
       "    <tr>\n",
       "      <th>4</th>\n",
       "      <td>52_Hz_I_Love_You_zh.wikipedia.org_all-access_s...</td>\n",
       "      <td>0.0</td>\n",
       "      <td>0.0</td>\n",
       "      <td>0.0</td>\n",
       "      <td>0.0</td>\n",
       "      <td>0.0</td>\n",
       "      <td>0.0</td>\n",
       "      <td>0.0</td>\n",
       "      <td>0.0</td>\n",
       "      <td>0.0</td>\n",
       "      <td>...</td>\n",
       "      <td>48.0</td>\n",
       "      <td>9.0</td>\n",
       "      <td>25.0</td>\n",
       "      <td>13.0</td>\n",
       "      <td>3.0</td>\n",
       "      <td>11.0</td>\n",
       "      <td>27.0</td>\n",
       "      <td>13.0</td>\n",
       "      <td>36.0</td>\n",
       "      <td>10.0</td>\n",
       "    </tr>\n",
       "  </tbody>\n",
       "</table>\n",
       "<p>5 rows × 550 columns</p>\n",
       "</div>"
      ],
      "text/plain": [
       "                                                Page  2015-07-02  2015-07-03  \\\n",
       "0            2NE1_zh.wikipedia.org_all-access_spider        11.0         5.0   \n",
       "1             2PM_zh.wikipedia.org_all-access_spider        14.0        15.0   \n",
       "2              3C_zh.wikipedia.org_all-access_spider         0.0         1.0   \n",
       "3         4minute_zh.wikipedia.org_all-access_spider        13.0        10.0   \n",
       "4  52_Hz_I_Love_You_zh.wikipedia.org_all-access_s...         0.0         0.0   \n",
       "\n",
       "   2015-07-04  2015-07-05  2015-07-06  2015-07-07  2015-07-08  2015-07-09  \\\n",
       "0        13.0        14.0         9.0         9.0        22.0        26.0   \n",
       "1        18.0        11.0        13.0        22.0        11.0        10.0   \n",
       "2         1.0         0.0         4.0         0.0         3.0         4.0   \n",
       "3        94.0         4.0        26.0        14.0         9.0        11.0   \n",
       "4         0.0         0.0         0.0         0.0         0.0         0.0   \n",
       "\n",
       "   2015-07-10     ...      2016-12-22  2016-12-23  2016-12-24  2016-12-25  \\\n",
       "0        24.0     ...            32.0        63.0        15.0        26.0   \n",
       "1         4.0     ...            17.0        42.0        28.0        15.0   \n",
       "2         4.0     ...             3.0         1.0         1.0         7.0   \n",
       "3        16.0     ...            32.0        10.0        26.0        27.0   \n",
       "4         0.0     ...            48.0         9.0        25.0        13.0   \n",
       "\n",
       "   2016-12-26  2016-12-27  2016-12-28  2016-12-29  2016-12-30  2016-12-31  \n",
       "0        14.0        20.0        22.0        19.0        18.0        20.0  \n",
       "1         9.0        30.0        52.0        45.0        26.0        20.0  \n",
       "2         4.0         4.0         6.0         3.0         4.0        17.0  \n",
       "3        16.0        11.0        17.0        19.0        10.0        11.0  \n",
       "4         3.0        11.0        27.0        13.0        36.0        10.0  \n",
       "\n",
       "[5 rows x 550 columns]"
      ]
     },
     "execution_count": 7,
     "metadata": {},
     "output_type": "execute_result"
    }
   ],
   "source": [
    "# Get the data and tidy it up\n",
    "df = pd.read_csv('../input/train_1.csv').fillna(0)\n",
    "just_days = df.drop(df.columns[1], axis=1)\n",
    "just_days.head()"
   ]
  },
  {
   "cell_type": "code",
   "execution_count": 8,
   "metadata": {
    "_cell_guid": "9b2c686c-fda4-4f3b-9621-243b3a43c040",
    "_execution_state": "idle",
    "_uuid": "b8df10b0dc9906953e86f4c5b6256c1fce910d14",
    "collapsed": true,
    "deletable": true,
    "editable": true
   },
   "outputs": [],
   "source": [
    "weekdays = list(df.columns[1::7]) #Thursday\n",
    "weekdays += list(df.columns[2::7]) #Friday, Friday gotta get down on Friday everybody's looking forward to the\n",
    "weekends = list(df.columns[3::7]) #Saturday\n",
    "weekends += list(df.columns[4::7]) #Sunday\n",
    "weekdays += list(df.columns[5::7]) #Monday\n",
    "weekdays += list(df.columns[6::7]) #Tuesday\n",
    "weekdays += list(df.columns[7::7]) #Wednesday\n",
    "weekdays.sort()\n",
    "weekends.sort()"
   ]
  },
  {
   "cell_type": "code",
   "execution_count": 9,
   "metadata": {
    "_cell_guid": "f2807ab8-1600-4a5d-95db-34fb35fde386",
    "_execution_state": "idle",
    "_uuid": "6f33f0b138b0cd7751fda1cc90920c25379e45d5",
    "collapsed": false,
    "deletable": true,
    "editable": true
   },
   "outputs": [
    {
     "data": {
      "text/html": [
       "<div>\n",
       "<table border=\"1\" class=\"dataframe\">\n",
       "  <thead>\n",
       "    <tr style=\"text-align: right;\">\n",
       "      <th></th>\n",
       "      <th>Weekend Mean</th>\n",
       "    </tr>\n",
       "  </thead>\n",
       "  <tbody>\n",
       "    <tr>\n",
       "      <th>0</th>\n",
       "      <td>22.417722</td>\n",
       "    </tr>\n",
       "    <tr>\n",
       "      <th>1</th>\n",
       "      <td>27.493671</td>\n",
       "    </tr>\n",
       "    <tr>\n",
       "      <th>2</th>\n",
       "      <td>4.886076</td>\n",
       "    </tr>\n",
       "    <tr>\n",
       "      <th>3</th>\n",
       "      <td>17.227848</td>\n",
       "    </tr>\n",
       "    <tr>\n",
       "      <th>4</th>\n",
       "      <td>5.240506</td>\n",
       "    </tr>\n",
       "  </tbody>\n",
       "</table>\n",
       "</div>"
      ],
      "text/plain": [
       "   Weekend Mean\n",
       "0     22.417722\n",
       "1     27.493671\n",
       "2      4.886076\n",
       "3     17.227848\n",
       "4      5.240506"
      ]
     },
     "execution_count": 9,
     "metadata": {},
     "output_type": "execute_result"
    }
   ],
   "source": [
    "weekday_means = pd.DataFrame(df[weekdays].mean(axis=1, numeric_only=True), columns=['Weekday Mean'])\n",
    "weekend_means = pd.DataFrame(df[weekends].mean(axis=1, numeric_only=True), columns=['Weekend Mean'])\n",
    "weekend_means.head()"
   ]
  },
  {
   "cell_type": "code",
   "execution_count": 10,
   "metadata": {
    "_cell_guid": "877bf1b4-0210-4cbe-8080-fdf7799dcf3a",
    "_execution_state": "idle",
    "_uuid": "c2a0d85b54d7e39482c6894101f42114e47b6f8a",
    "collapsed": false,
    "deletable": true,
    "editable": true
   },
   "outputs": [
    {
     "data": {
      "text/html": [
       "<div>\n",
       "<table border=\"1\" class=\"dataframe\">\n",
       "  <thead>\n",
       "    <tr style=\"text-align: right;\">\n",
       "      <th></th>\n",
       "      <th>Page</th>\n",
       "      <th>Weekday Mean</th>\n",
       "      <th>Weekend Mean</th>\n",
       "    </tr>\n",
       "  </thead>\n",
       "  <tbody>\n",
       "    <tr>\n",
       "      <th>0</th>\n",
       "      <td>2NE1_zh.wikipedia.org_all-access_spider</td>\n",
       "      <td>21.489796</td>\n",
       "      <td>22.417722</td>\n",
       "    </tr>\n",
       "    <tr>\n",
       "      <th>1</th>\n",
       "      <td>2PM_zh.wikipedia.org_all-access_spider</td>\n",
       "      <td>24.545918</td>\n",
       "      <td>27.493671</td>\n",
       "    </tr>\n",
       "    <tr>\n",
       "      <th>2</th>\n",
       "      <td>3C_zh.wikipedia.org_all-access_spider</td>\n",
       "      <td>5.331633</td>\n",
       "      <td>4.886076</td>\n",
       "    </tr>\n",
       "    <tr>\n",
       "      <th>3</th>\n",
       "      <td>4minute_zh.wikipedia.org_all-access_spider</td>\n",
       "      <td>17.084184</td>\n",
       "      <td>17.227848</td>\n",
       "    </tr>\n",
       "    <tr>\n",
       "      <th>4</th>\n",
       "      <td>52_Hz_I_Love_You_zh.wikipedia.org_all-access_s...</td>\n",
       "      <td>4.678571</td>\n",
       "      <td>5.240506</td>\n",
       "    </tr>\n",
       "  </tbody>\n",
       "</table>\n",
       "</div>"
      ],
      "text/plain": [
       "                                                Page  Weekday Mean  \\\n",
       "0            2NE1_zh.wikipedia.org_all-access_spider     21.489796   \n",
       "1             2PM_zh.wikipedia.org_all-access_spider     24.545918   \n",
       "2              3C_zh.wikipedia.org_all-access_spider      5.331633   \n",
       "3         4minute_zh.wikipedia.org_all-access_spider     17.084184   \n",
       "4  52_Hz_I_Love_You_zh.wikipedia.org_all-access_s...      4.678571   \n",
       "\n",
       "   Weekend Mean  \n",
       "0     22.417722  \n",
       "1     27.493671  \n",
       "2      4.886076  \n",
       "3     17.227848  \n",
       "4      5.240506  "
      ]
     },
     "execution_count": 10,
     "metadata": {},
     "output_type": "execute_result"
    }
   ],
   "source": [
    "# concat means into one (indexable) dataframe\n",
    "means = pd.concat([df['Page'], weekday_means, weekend_means], axis=1)\n",
    "means.head()"
   ]
  },
  {
   "cell_type": "code",
   "execution_count": 11,
   "metadata": {
    "collapsed": false,
    "deletable": true,
    "editable": true
   },
   "outputs": [
    {
     "data": {
      "text/html": [
       "<div>\n",
       "<table border=\"1\" class=\"dataframe\">\n",
       "  <thead>\n",
       "    <tr style=\"text-align: right;\">\n",
       "      <th></th>\n",
       "      <th>Page</th>\n",
       "      <th>Weekday Mean</th>\n",
       "      <th>Weekend Mean</th>\n",
       "    </tr>\n",
       "  </thead>\n",
       "  <tbody>\n",
       "    <tr>\n",
       "      <th>0</th>\n",
       "      <td>2NE1_zh.wikipedia.org_all-access_spider</td>\n",
       "      <td>21.49</td>\n",
       "      <td>22.42</td>\n",
       "    </tr>\n",
       "    <tr>\n",
       "      <th>1</th>\n",
       "      <td>2PM_zh.wikipedia.org_all-access_spider</td>\n",
       "      <td>24.55</td>\n",
       "      <td>27.49</td>\n",
       "    </tr>\n",
       "    <tr>\n",
       "      <th>2</th>\n",
       "      <td>3C_zh.wikipedia.org_all-access_spider</td>\n",
       "      <td>5.33</td>\n",
       "      <td>4.89</td>\n",
       "    </tr>\n",
       "    <tr>\n",
       "      <th>3</th>\n",
       "      <td>4minute_zh.wikipedia.org_all-access_spider</td>\n",
       "      <td>17.08</td>\n",
       "      <td>17.23</td>\n",
       "    </tr>\n",
       "    <tr>\n",
       "      <th>4</th>\n",
       "      <td>52_Hz_I_Love_You_zh.wikipedia.org_all-access_s...</td>\n",
       "      <td>4.68</td>\n",
       "      <td>5.24</td>\n",
       "    </tr>\n",
       "  </tbody>\n",
       "</table>\n",
       "</div>"
      ],
      "text/plain": [
       "                                                Page  Weekday Mean  \\\n",
       "0            2NE1_zh.wikipedia.org_all-access_spider         21.49   \n",
       "1             2PM_zh.wikipedia.org_all-access_spider         24.55   \n",
       "2              3C_zh.wikipedia.org_all-access_spider          5.33   \n",
       "3         4minute_zh.wikipedia.org_all-access_spider         17.08   \n",
       "4  52_Hz_I_Love_You_zh.wikipedia.org_all-access_s...          4.68   \n",
       "\n",
       "   Weekend Mean  \n",
       "0         22.42  \n",
       "1         27.49  \n",
       "2          4.89  \n",
       "3         17.23  \n",
       "4          5.24  "
      ]
     },
     "execution_count": 11,
     "metadata": {},
     "output_type": "execute_result"
    }
   ],
   "source": [
    "# rounds the means\n",
    "means = means.round(2)\n",
    "means.head()"
   ]
  },
  {
   "cell_type": "markdown",
   "metadata": {
    "_cell_guid": "03efcd94-04c1-4b55-8e72-b258179cf3ab",
    "_uuid": "a3e17e82201b88e2e37a241a63adbdd0ddf34253",
    "deletable": true,
    "editable": true
   },
   "source": [
    "# Try a submission!"
   ]
  },
  {
   "cell_type": "code",
   "execution_count": 12,
   "metadata": {
    "_cell_guid": "1ea30352-9d12-47cc-b848-a86e7465c9fc",
    "_execution_state": "busy",
    "_uuid": "6442ef4bde9c21901a9050c15278965c38332fc3",
    "collapsed": false,
    "deletable": true,
    "editable": true
   },
   "outputs": [
    {
     "data": {
      "text/html": [
       "<div>\n",
       "<table border=\"1\" class=\"dataframe\">\n",
       "  <thead>\n",
       "    <tr style=\"text-align: right;\">\n",
       "      <th></th>\n",
       "      <th>Page</th>\n",
       "      <th>Id</th>\n",
       "    </tr>\n",
       "  </thead>\n",
       "  <tbody>\n",
       "    <tr>\n",
       "      <th>0</th>\n",
       "      <td>!vote_en.wikipedia.org_all-access_all-agents_2...</td>\n",
       "      <td>bf4edcf969af</td>\n",
       "    </tr>\n",
       "    <tr>\n",
       "      <th>1</th>\n",
       "      <td>!vote_en.wikipedia.org_all-access_all-agents_2...</td>\n",
       "      <td>929ed2bf52b9</td>\n",
       "    </tr>\n",
       "    <tr>\n",
       "      <th>2</th>\n",
       "      <td>!vote_en.wikipedia.org_all-access_all-agents_2...</td>\n",
       "      <td>ff29d0f51d5c</td>\n",
       "    </tr>\n",
       "    <tr>\n",
       "      <th>3</th>\n",
       "      <td>!vote_en.wikipedia.org_all-access_all-agents_2...</td>\n",
       "      <td>e98873359be6</td>\n",
       "    </tr>\n",
       "    <tr>\n",
       "      <th>4</th>\n",
       "      <td>!vote_en.wikipedia.org_all-access_all-agents_2...</td>\n",
       "      <td>fa012434263a</td>\n",
       "    </tr>\n",
       "  </tbody>\n",
       "</table>\n",
       "</div>"
      ],
      "text/plain": [
       "                                                Page            Id\n",
       "0  !vote_en.wikipedia.org_all-access_all-agents_2...  bf4edcf969af\n",
       "1  !vote_en.wikipedia.org_all-access_all-agents_2...  929ed2bf52b9\n",
       "2  !vote_en.wikipedia.org_all-access_all-agents_2...  ff29d0f51d5c\n",
       "3  !vote_en.wikipedia.org_all-access_all-agents_2...  e98873359be6\n",
       "4  !vote_en.wikipedia.org_all-access_all-agents_2...  fa012434263a"
      ]
     },
     "execution_count": 12,
     "metadata": {},
     "output_type": "execute_result"
    }
   ],
   "source": [
    "import pandas as pd\n",
    "ss_df = pd.read_csv('../input/key_1.csv')\n",
    "ss_df.head()"
   ]
  },
  {
   "cell_type": "code",
   "execution_count": 13,
   "metadata": {
    "collapsed": false
   },
   "outputs": [
    {
     "data": {
      "text/html": [
       "<div>\n",
       "<table border=\"1\" class=\"dataframe\">\n",
       "  <thead>\n",
       "    <tr style=\"text-align: right;\">\n",
       "      <th></th>\n",
       "      <th>Page</th>\n",
       "      <th>Id</th>\n",
       "    </tr>\n",
       "  </thead>\n",
       "  <tbody>\n",
       "    <tr>\n",
       "      <th>8703775</th>\n",
       "      <td>龙生九子_zh.wikipedia.org_mobile-web_all-agents_20...</td>\n",
       "      <td>f69747f5ee68</td>\n",
       "    </tr>\n",
       "    <tr>\n",
       "      <th>8703776</th>\n",
       "      <td>龙生九子_zh.wikipedia.org_mobile-web_all-agents_20...</td>\n",
       "      <td>2489963dc503</td>\n",
       "    </tr>\n",
       "    <tr>\n",
       "      <th>8703777</th>\n",
       "      <td>龙生九子_zh.wikipedia.org_mobile-web_all-agents_20...</td>\n",
       "      <td>b0624c909f4c</td>\n",
       "    </tr>\n",
       "    <tr>\n",
       "      <th>8703778</th>\n",
       "      <td>龙生九子_zh.wikipedia.org_mobile-web_all-agents_20...</td>\n",
       "      <td>24a1dfb06c10</td>\n",
       "    </tr>\n",
       "    <tr>\n",
       "      <th>8703779</th>\n",
       "      <td>龙生九子_zh.wikipedia.org_mobile-web_all-agents_20...</td>\n",
       "      <td>add681d54216</td>\n",
       "    </tr>\n",
       "  </tbody>\n",
       "</table>\n",
       "</div>"
      ],
      "text/plain": [
       "                                                      Page            Id\n",
       "8703775  龙生九子_zh.wikipedia.org_mobile-web_all-agents_20...  f69747f5ee68\n",
       "8703776  龙生九子_zh.wikipedia.org_mobile-web_all-agents_20...  2489963dc503\n",
       "8703777  龙生九子_zh.wikipedia.org_mobile-web_all-agents_20...  b0624c909f4c\n",
       "8703778  龙生九子_zh.wikipedia.org_mobile-web_all-agents_20...  24a1dfb06c10\n",
       "8703779  龙生九子_zh.wikipedia.org_mobile-web_all-agents_20...  add681d54216"
      ]
     },
     "execution_count": 13,
     "metadata": {},
     "output_type": "execute_result"
    }
   ],
   "source": [
    "ss_df.tail()"
   ]
  },
  {
   "cell_type": "markdown",
   "metadata": {
    "_cell_guid": "1d353c90-2d13-4c97-a0d7-bea869354f3a",
    "_uuid": "ac9a3bd7ae959ac4c9310740f75862be2b473f4f",
    "deletable": true,
    "editable": true
   },
   "source": [
    "## Transferring data into correct rows in key"
   ]
  },
  {
   "cell_type": "code",
   "execution_count": 14,
   "metadata": {
    "_cell_guid": "be74cc7b-4746-45a2-9074-54d16ed0ed25",
    "_execution_state": "busy",
    "_uuid": "463df51d10e131aa74120222b3cfc5af16c133db",
    "collapsed": false,
    "deletable": true,
    "editable": true
   },
   "outputs": [
    {
     "data": {
      "text/html": [
       "<div>\n",
       "<table border=\"1\" class=\"dataframe\">\n",
       "  <thead>\n",
       "    <tr style=\"text-align: right;\">\n",
       "      <th></th>\n",
       "      <th>Page</th>\n",
       "      <th>Day</th>\n",
       "    </tr>\n",
       "  </thead>\n",
       "  <tbody>\n",
       "    <tr>\n",
       "      <th>0</th>\n",
       "      <td>!vote_en.wikipedia.org_all-access_all-agents</td>\n",
       "      <td>01-01</td>\n",
       "    </tr>\n",
       "    <tr>\n",
       "      <th>1</th>\n",
       "      <td>!vote_en.wikipedia.org_all-access_all-agents</td>\n",
       "      <td>01-02</td>\n",
       "    </tr>\n",
       "    <tr>\n",
       "      <th>2</th>\n",
       "      <td>!vote_en.wikipedia.org_all-access_all-agents</td>\n",
       "      <td>01-03</td>\n",
       "    </tr>\n",
       "    <tr>\n",
       "      <th>3</th>\n",
       "      <td>!vote_en.wikipedia.org_all-access_all-agents</td>\n",
       "      <td>01-04</td>\n",
       "    </tr>\n",
       "    <tr>\n",
       "      <th>4</th>\n",
       "      <td>!vote_en.wikipedia.org_all-access_all-agents</td>\n",
       "      <td>01-05</td>\n",
       "    </tr>\n",
       "  </tbody>\n",
       "</table>\n",
       "</div>"
      ],
      "text/plain": [
       "                                           Page    Day\n",
       "0  !vote_en.wikipedia.org_all-access_all-agents  01-01\n",
       "1  !vote_en.wikipedia.org_all-access_all-agents  01-02\n",
       "2  !vote_en.wikipedia.org_all-access_all-agents  01-03\n",
       "3  !vote_en.wikipedia.org_all-access_all-agents  01-04\n",
       "4  !vote_en.wikipedia.org_all-access_all-agents  01-05"
      ]
     },
     "execution_count": 14,
     "metadata": {},
     "output_type": "execute_result"
    }
   ],
   "source": [
    "def get_day_and_page (page_string):\n",
    "    name = page_string.split('_2017-')\n",
    "    try:\n",
    "        return [name[0], name[1]]\n",
    "    except RangeError:\n",
    "        return [name[0], 'FAIL']\n",
    "        \n",
    "pages_and_days = pd.DataFrame([get_day_and_page(name) for name in ss_df['Page'].values], columns=['Page', 'Day'])\n",
    "pages_and_days.head()"
   ]
  },
  {
   "cell_type": "code",
   "execution_count": 15,
   "metadata": {
    "_cell_guid": "7f52da5f-21e0-4cf7-bbed-9bed14378d27",
    "_execution_state": "busy",
    "_uuid": "720b172e38e17259998e2e2e8894284cfa5845e7",
    "collapsed": true,
    "deletable": true,
    "editable": true
   },
   "outputs": [],
   "source": [
    "# Get days present in key\n",
    "days = pages_and_days['Day'].unique()\n",
    "weekends = list(days[0::7]) #Sunday\n",
    "weekdays = list(days[1::7]) #Monday\n",
    "weekdays += list(days[2::7]) #Tuesday\n",
    "weekdays += list(days[3::7]) #Wednesday\n",
    "weekdays += list(days[4::7]) #Thursday\n",
    "weekdays += list(days[5::7]) #Friday\n",
    "weekends += list(days[6::7]) #Saturday\n",
    "weekdays.sort()\n",
    "weekends.sort()"
   ]
  },
  {
   "cell_type": "code",
   "execution_count": 16,
   "metadata": {
    "_cell_guid": "a8285f53-757e-4872-af11-bbd76ca7e58c",
    "_uuid": "3a709a0e0896d58e1520b55bea7439d32df5f629",
    "collapsed": false,
    "deletable": true,
    "editable": true
   },
   "outputs": [
    {
     "data": {
      "text/plain": [
       "['01-01',\n",
       " '01-07',\n",
       " '01-08',\n",
       " '01-14',\n",
       " '01-15',\n",
       " '01-21',\n",
       " '01-22',\n",
       " '01-28',\n",
       " '01-29',\n",
       " '02-04',\n",
       " '02-05',\n",
       " '02-11',\n",
       " '02-12',\n",
       " '02-18',\n",
       " '02-19',\n",
       " '02-25',\n",
       " '02-26']"
      ]
     },
     "execution_count": 16,
     "metadata": {},
     "output_type": "execute_result"
    }
   ],
   "source": [
    "weekends"
   ]
  },
  {
   "cell_type": "code",
   "execution_count": 17,
   "metadata": {
    "_cell_guid": "62c60795-6e9f-4a12-96af-3e419a780bfc",
    "_execution_state": "busy",
    "_uuid": "8f839c373f586f5e977f3b8fb967ecca0b4289a5",
    "collapsed": false,
    "deletable": true,
    "editable": true
   },
   "outputs": [
    {
     "data": {
      "text/html": [
       "<div>\n",
       "<table border=\"1\" class=\"dataframe\">\n",
       "  <thead>\n",
       "    <tr style=\"text-align: right;\">\n",
       "      <th></th>\n",
       "      <th>Weekday Mean</th>\n",
       "      <th>Weekend Mean</th>\n",
       "    </tr>\n",
       "    <tr>\n",
       "      <th>Page</th>\n",
       "      <th></th>\n",
       "      <th></th>\n",
       "    </tr>\n",
       "  </thead>\n",
       "  <tbody>\n",
       "    <tr>\n",
       "      <th>2NE1_zh.wikipedia.org_all-access_spider</th>\n",
       "      <td>21.49</td>\n",
       "      <td>22.42</td>\n",
       "    </tr>\n",
       "    <tr>\n",
       "      <th>2PM_zh.wikipedia.org_all-access_spider</th>\n",
       "      <td>24.55</td>\n",
       "      <td>27.49</td>\n",
       "    </tr>\n",
       "    <tr>\n",
       "      <th>3C_zh.wikipedia.org_all-access_spider</th>\n",
       "      <td>5.33</td>\n",
       "      <td>4.89</td>\n",
       "    </tr>\n",
       "    <tr>\n",
       "      <th>4minute_zh.wikipedia.org_all-access_spider</th>\n",
       "      <td>17.08</td>\n",
       "      <td>17.23</td>\n",
       "    </tr>\n",
       "    <tr>\n",
       "      <th>52_Hz_I_Love_You_zh.wikipedia.org_all-access_spider</th>\n",
       "      <td>4.68</td>\n",
       "      <td>5.24</td>\n",
       "    </tr>\n",
       "  </tbody>\n",
       "</table>\n",
       "</div>"
      ],
      "text/plain": [
       "                                                    Weekday Mean  Weekend Mean\n",
       "Page                                                                          \n",
       "2NE1_zh.wikipedia.org_all-access_spider                    21.49         22.42\n",
       "2PM_zh.wikipedia.org_all-access_spider                     24.55         27.49\n",
       "3C_zh.wikipedia.org_all-access_spider                       5.33          4.89\n",
       "4minute_zh.wikipedia.org_all-access_spider                 17.08         17.23\n",
       "52_Hz_I_Love_You_zh.wikipedia.org_all-access_sp...          4.68          5.24"
      ]
     },
     "execution_count": 17,
     "metadata": {},
     "output_type": "execute_result"
    }
   ],
   "source": [
    "means_by_page = means.set_index(df['Page']).drop(['Page'],axis=1)\n",
    "means_by_page.head()"
   ]
  },
  {
   "cell_type": "code",
   "execution_count": 18,
   "metadata": {
    "collapsed": false,
    "deletable": true,
    "editable": true,
    "scrolled": true
   },
   "outputs": [
    {
     "data": {
      "text/plain": [
       "3.48"
      ]
     },
     "execution_count": 18,
     "metadata": {},
     "output_type": "execute_result"
    }
   ],
   "source": [
    "means_by_page.ix['!vote_en.wikipedia.org_all-access_all-agents', 'Weekend Mean']"
   ]
  },
  {
   "cell_type": "code",
   "execution_count": 19,
   "metadata": {
    "_cell_guid": "0dab60b4-61e1-453b-b06a-469e89108963",
    "_execution_state": "busy",
    "_uuid": "1302aad30062460ae5c3d2f766b0abb964b51699",
    "collapsed": false,
    "deletable": true,
    "editable": true
   },
   "outputs": [
    {
     "data": {
      "text/html": [
       "<div>\n",
       "<table border=\"1\" class=\"dataframe\">\n",
       "  <thead>\n",
       "    <tr style=\"text-align: right;\">\n",
       "      <th></th>\n",
       "      <th>Page</th>\n",
       "      <th>Id</th>\n",
       "      <th>Visits</th>\n",
       "    </tr>\n",
       "  </thead>\n",
       "  <tbody>\n",
       "    <tr>\n",
       "      <th>0</th>\n",
       "      <td>!vote_en.wikipedia.org_all-access_all-agents_2...</td>\n",
       "      <td>bf4edcf969af</td>\n",
       "      <td>3.48</td>\n",
       "    </tr>\n",
       "    <tr>\n",
       "      <th>1</th>\n",
       "      <td>!vote_en.wikipedia.org_all-access_all-agents_2...</td>\n",
       "      <td>929ed2bf52b9</td>\n",
       "      <td>3.40</td>\n",
       "    </tr>\n",
       "    <tr>\n",
       "      <th>2</th>\n",
       "      <td>!vote_en.wikipedia.org_all-access_all-agents_2...</td>\n",
       "      <td>ff29d0f51d5c</td>\n",
       "      <td>3.40</td>\n",
       "    </tr>\n",
       "    <tr>\n",
       "      <th>3</th>\n",
       "      <td>!vote_en.wikipedia.org_all-access_all-agents_2...</td>\n",
       "      <td>e98873359be6</td>\n",
       "      <td>3.40</td>\n",
       "    </tr>\n",
       "    <tr>\n",
       "      <th>4</th>\n",
       "      <td>!vote_en.wikipedia.org_all-access_all-agents_2...</td>\n",
       "      <td>fa012434263a</td>\n",
       "      <td>3.40</td>\n",
       "    </tr>\n",
       "    <tr>\n",
       "      <th>5</th>\n",
       "      <td>!vote_en.wikipedia.org_all-access_all-agents_2...</td>\n",
       "      <td>48f1e93517a2</td>\n",
       "      <td>3.40</td>\n",
       "    </tr>\n",
       "    <tr>\n",
       "      <th>6</th>\n",
       "      <td>!vote_en.wikipedia.org_all-access_all-agents_2...</td>\n",
       "      <td>5def418fcb36</td>\n",
       "      <td>3.48</td>\n",
       "    </tr>\n",
       "    <tr>\n",
       "      <th>7</th>\n",
       "      <td>!vote_en.wikipedia.org_all-access_all-agents_2...</td>\n",
       "      <td>77bd08134351</td>\n",
       "      <td>3.48</td>\n",
       "    </tr>\n",
       "    <tr>\n",
       "      <th>8</th>\n",
       "      <td>!vote_en.wikipedia.org_all-access_all-agents_2...</td>\n",
       "      <td>5889e6dbb16f</td>\n",
       "      <td>3.40</td>\n",
       "    </tr>\n",
       "    <tr>\n",
       "      <th>9</th>\n",
       "      <td>!vote_en.wikipedia.org_all-access_all-agents_2...</td>\n",
       "      <td>5f21fef1d764</td>\n",
       "      <td>3.40</td>\n",
       "    </tr>\n",
       "    <tr>\n",
       "      <th>10</th>\n",
       "      <td>!vote_en.wikipedia.org_all-access_all-agents_2...</td>\n",
       "      <td>6f07e1b8815a</td>\n",
       "      <td>3.40</td>\n",
       "    </tr>\n",
       "    <tr>\n",
       "      <th>11</th>\n",
       "      <td>!vote_en.wikipedia.org_all-access_all-agents_2...</td>\n",
       "      <td>228e54b5dea0</td>\n",
       "      <td>3.40</td>\n",
       "    </tr>\n",
       "    <tr>\n",
       "      <th>12</th>\n",
       "      <td>!vote_en.wikipedia.org_all-access_all-agents_2...</td>\n",
       "      <td>da1b34963ed7</td>\n",
       "      <td>3.40</td>\n",
       "    </tr>\n",
       "    <tr>\n",
       "      <th>13</th>\n",
       "      <td>!vote_en.wikipedia.org_all-access_all-agents_2...</td>\n",
       "      <td>ab5ccefaa2db</td>\n",
       "      <td>3.48</td>\n",
       "    </tr>\n",
       "  </tbody>\n",
       "</table>\n",
       "</div>"
      ],
      "text/plain": [
       "                                                 Page            Id  Visits\n",
       "0   !vote_en.wikipedia.org_all-access_all-agents_2...  bf4edcf969af    3.48\n",
       "1   !vote_en.wikipedia.org_all-access_all-agents_2...  929ed2bf52b9    3.40\n",
       "2   !vote_en.wikipedia.org_all-access_all-agents_2...  ff29d0f51d5c    3.40\n",
       "3   !vote_en.wikipedia.org_all-access_all-agents_2...  e98873359be6    3.40\n",
       "4   !vote_en.wikipedia.org_all-access_all-agents_2...  fa012434263a    3.40\n",
       "5   !vote_en.wikipedia.org_all-access_all-agents_2...  48f1e93517a2    3.40\n",
       "6   !vote_en.wikipedia.org_all-access_all-agents_2...  5def418fcb36    3.48\n",
       "7   !vote_en.wikipedia.org_all-access_all-agents_2...  77bd08134351    3.48\n",
       "8   !vote_en.wikipedia.org_all-access_all-agents_2...  5889e6dbb16f    3.40\n",
       "9   !vote_en.wikipedia.org_all-access_all-agents_2...  5f21fef1d764    3.40\n",
       "10  !vote_en.wikipedia.org_all-access_all-agents_2...  6f07e1b8815a    3.40\n",
       "11  !vote_en.wikipedia.org_all-access_all-agents_2...  228e54b5dea0    3.40\n",
       "12  !vote_en.wikipedia.org_all-access_all-agents_2...  da1b34963ed7    3.40\n",
       "13  !vote_en.wikipedia.org_all-access_all-agents_2...  ab5ccefaa2db    3.48"
      ]
     },
     "execution_count": 19,
     "metadata": {},
     "output_type": "execute_result"
    }
   ],
   "source": [
    "# stops fatal error on missing data\n",
    "def get_page_visits (page, weekend):\n",
    "    try:\n",
    "        if weekend:\n",
    "            return means_by_page.ix[page, 'Weekend Mean']\n",
    "        else:\n",
    "            return means_by_page.ix[page, 'Weekday Mean']\n",
    "    except KeyError:\n",
    "        return 0\n",
    "\n",
    "# gets weekday/end result for this page\n",
    "def populate_results(page_string):\n",
    "    day_and_page = get_day_and_page(page_string)\n",
    "    if day_and_page[1] in weekends:\n",
    "        return get_page_visits(day_and_page[0], True)\n",
    "    else:\n",
    "        return get_page_visits(day_and_page[0], False)\n",
    "\n",
    "\n",
    "ss_df['Visits'] = ss_df.Page.map(populate_results)\n",
    "ss_df.head(14)"
   ]
  },
  {
   "cell_type": "markdown",
   "metadata": {
    "_cell_guid": "eef45213-3c50-41d9-adb2-42ef37ddb33e",
    "_uuid": "edd89ac7dbacd582743e4509501f4e4822ac40df",
    "deletable": true,
    "editable": true
   },
   "source": [
    "## Export!"
   ]
  },
  {
   "cell_type": "code",
   "execution_count": 20,
   "metadata": {
    "_cell_guid": "2dc0e555-7efb-4fea-a4d8-cf6bb1ac7be9",
    "_execution_state": "busy",
    "_uuid": "d9c496d1223dafa8c5019c735929c5c35a3dc258",
    "collapsed": true,
    "deletable": true,
    "editable": true
   },
   "outputs": [],
   "source": [
    "ss_df.drop(['Page'], axis=1).to_csv('PWM_ss.csv', index=False, header=True)"
   ]
  },
  {
   "cell_type": "code",
   "execution_count": 21,
   "metadata": {
    "_cell_guid": "3ca7f296-6a2b-4ed5-9ce2-98b862ed0f4d",
    "_execution_state": "busy",
    "_uuid": "68ace1fdf83853a3d7b102227f80403b5c7eac6e",
    "collapsed": true,
    "deletable": true,
    "editable": true
   },
   "outputs": [],
   "source": [
    "test = pd.read_csv('PWM_ss.csv')"
   ]
  },
  {
   "cell_type": "code",
   "execution_count": 22,
   "metadata": {
    "_cell_guid": "321d0834-ee61-4c30-91e3-6717fa2a11cd",
    "_execution_state": "busy",
    "_uuid": "cd7187b3d9f43290f1824de5e398c2ee15540529",
    "collapsed": false,
    "deletable": true,
    "editable": true
   },
   "outputs": [
    {
     "data": {
      "text/html": [
       "<div>\n",
       "<table border=\"1\" class=\"dataframe\">\n",
       "  <thead>\n",
       "    <tr style=\"text-align: right;\">\n",
       "      <th></th>\n",
       "      <th>Id</th>\n",
       "      <th>Visits</th>\n",
       "    </tr>\n",
       "  </thead>\n",
       "  <tbody>\n",
       "    <tr>\n",
       "      <th>0</th>\n",
       "      <td>bf4edcf969af</td>\n",
       "      <td>3.48</td>\n",
       "    </tr>\n",
       "    <tr>\n",
       "      <th>1</th>\n",
       "      <td>929ed2bf52b9</td>\n",
       "      <td>3.40</td>\n",
       "    </tr>\n",
       "    <tr>\n",
       "      <th>2</th>\n",
       "      <td>ff29d0f51d5c</td>\n",
       "      <td>3.40</td>\n",
       "    </tr>\n",
       "    <tr>\n",
       "      <th>3</th>\n",
       "      <td>e98873359be6</td>\n",
       "      <td>3.40</td>\n",
       "    </tr>\n",
       "    <tr>\n",
       "      <th>4</th>\n",
       "      <td>fa012434263a</td>\n",
       "      <td>3.40</td>\n",
       "    </tr>\n",
       "  </tbody>\n",
       "</table>\n",
       "</div>"
      ],
      "text/plain": [
       "             Id  Visits\n",
       "0  bf4edcf969af    3.48\n",
       "1  929ed2bf52b9    3.40\n",
       "2  ff29d0f51d5c    3.40\n",
       "3  e98873359be6    3.40\n",
       "4  fa012434263a    3.40"
      ]
     },
     "execution_count": 22,
     "metadata": {},
     "output_type": "execute_result"
    }
   ],
   "source": [
    "test.head()"
   ]
  },
  {
   "cell_type": "code",
   "execution_count": 23,
   "metadata": {
    "_cell_guid": "df5f9f2b-11a5-431b-869a-a6d3d1ac8d6a",
    "_execution_state": "busy",
    "_uuid": "9c263bf12ce8f284db7c5affd1008e9e354781a8",
    "collapsed": false,
    "deletable": true,
    "editable": true
   },
   "outputs": [
    {
     "data": {
      "text/html": [
       "<div>\n",
       "<table border=\"1\" class=\"dataframe\">\n",
       "  <thead>\n",
       "    <tr style=\"text-align: right;\">\n",
       "      <th></th>\n",
       "      <th>Id</th>\n",
       "      <th>Visits</th>\n",
       "    </tr>\n",
       "  </thead>\n",
       "  <tbody>\n",
       "    <tr>\n",
       "      <th>8703775</th>\n",
       "      <td>f69747f5ee68</td>\n",
       "      <td>146.54</td>\n",
       "    </tr>\n",
       "    <tr>\n",
       "      <th>8703776</th>\n",
       "      <td>2489963dc503</td>\n",
       "      <td>146.54</td>\n",
       "    </tr>\n",
       "    <tr>\n",
       "      <th>8703777</th>\n",
       "      <td>b0624c909f4c</td>\n",
       "      <td>135.96</td>\n",
       "    </tr>\n",
       "    <tr>\n",
       "      <th>8703778</th>\n",
       "      <td>24a1dfb06c10</td>\n",
       "      <td>135.96</td>\n",
       "    </tr>\n",
       "    <tr>\n",
       "      <th>8703779</th>\n",
       "      <td>add681d54216</td>\n",
       "      <td>135.96</td>\n",
       "    </tr>\n",
       "  </tbody>\n",
       "</table>\n",
       "</div>"
      ],
      "text/plain": [
       "                   Id  Visits\n",
       "8703775  f69747f5ee68  146.54\n",
       "8703776  2489963dc503  146.54\n",
       "8703777  b0624c909f4c  135.96\n",
       "8703778  24a1dfb06c10  135.96\n",
       "8703779  add681d54216  135.96"
      ]
     },
     "execution_count": 23,
     "metadata": {},
     "output_type": "execute_result"
    }
   ],
   "source": [
    "test.tail()"
   ]
  },
  {
   "cell_type": "code",
   "execution_count": null,
   "metadata": {
    "collapsed": true
   },
   "outputs": [],
   "source": []
  }
 ],
 "metadata": {
  "kernelspec": {
   "display_name": "Python 3",
   "language": "python",
   "name": "python3"
  },
  "language_info": {
   "codemirror_mode": {
    "name": "ipython",
    "version": 3
   },
   "file_extension": ".py",
   "mimetype": "text/x-python",
   "name": "python",
   "nbconvert_exporter": "python",
   "pygments_lexer": "ipython3",
   "version": "3.5.2"
  },
  "widgets": {
   "application/vnd.jupyter.widget-state+json": {
    "state": {},
    "version_major": 1,
    "version_minor": 0
   }
  }
 },
 "nbformat": 4,
 "nbformat_minor": 2
}
