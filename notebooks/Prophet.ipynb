{
  "metadata": {
    "kernelspec": {
      "display_name": "Python 3",
      "language": "python",
      "name": "python3"
    },
    "language_info": {
      "name": "python",
      "version": "3.6.1",
      "mimetype": "text/x-python",
      "codemirror_mode": {
        "name": "ipython",
        "version": 3
      },
      "pygments_lexer": "ipython3",
      "nbconvert_exporter": "python",
      "file_extension": ".py"
    }
  },
  "nbformat": 4,
  "nbformat_minor": 1,
  "cells": [
    {
      "outputs": [],
      "cell_type": "code",
      "metadata": {
        "_uuid": "97e94414c7bdd4667632ca4a449b10e47673b55b",
        "_cell_guid": "799507b1-e5e1-4ee8-ad54-34f5697e90f2",
        "trusted": false
      },
      "source": "import numpy as np\nimport pandas as pd\nimport statsmodels.api as sm\nimport matplotlib.pyplot as plt\nfrom pandas.tools.plotting import lag_plot\nfrom pandas.tools.plotting import autocorrelation_plot\nfrom fbprophet import Prophet\n\nplt.style.use('fivethirtyeight')",
      "execution_count": null
    },
    {
      "outputs": [],
      "cell_type": "code",
      "metadata": {
        "_uuid": "2e0fc53e6897e06730949a7f6499da414bfbf318",
        "scrolled": true,
        "_cell_guid": "fcdd7a88-89b6-4138-9425-7349b3d13eb3",
        "trusted": false
      },
      "source": "print('Reading data...')\n\nkey_1 = pd.read_csv('../input/key_1.csv')\nprint('Key file read')\ntrain_1 = pd.read_csv('../input/train_1.csv')\nprint('Training data read')\nss_1 = pd.read_csv('../input/sample_submission_1.csv')\n\nprint ('All data has been read')",
      "execution_count": null
    },
    {
      "outputs": [],
      "cell_type": "markdown",
      "metadata": {
        "_uuid": "187d766ccb802e90ec4f459819d4504c0d2e644c",
        "_cell_guid": "e2e35de4-0b11-47ad-9d56-ddbbf4df4a35"
      },
      "source": "Having read in the data, I'll drop the first column, which holds the Page names, so that I can more easily manipulate the columns, and convert the strings into Pandas datetime objects.",
      "execution_count": null
    },
    {
      "outputs": [],
      "cell_type": "code",
      "metadata": {
        "_uuid": "f2f33c8aeff854c5898a4893bcc9c049e2942978",
        "scrolled": false,
        "_cell_guid": "64e74444-80bb-4fe7-87b9-90defb362e7b",
        "trusted": false
      },
      "source": "df = train_1.drop(train_1.columns[0], axis=1)\ndf.columns = pd.to_datetime(df.columns)\n# list(df)",
      "execution_count": null
    },
    {
      "outputs": [],
      "cell_type": "markdown",
      "metadata": {
        "_uuid": "f09459ee39e0ccbb7ab1bd3914bc418512e15ddf",
        "_cell_guid": "0247809a-6a7a-4311-9be0-e8dc007740ea"
      },
      "source": "Now that we have indexing by DateTime objects, we can use a resampling technique to group all the data by month rather than by day, and plot that individual Series (change the `iloc` to whatever you want).",
      "execution_count": null
    },
    {
      "outputs": [],
      "cell_type": "code",
      "metadata": {
        "_uuid": "7572f69d84d80b4cfa054d0200e8ab841d206ee5",
        "_cell_guid": "ddef7858-d4d7-45b7-a737-cba4719e652b",
        "trusted": false
      },
      "source": "series = df.iloc[1]\nseries = series.resample('MS').mean()\nseries.plot()\nplt.show()\nautocorrelation_plot(series)\nplt.show()\nlag_plot(series)",
      "execution_count": null
    },
    {
      "outputs": [],
      "cell_type": "markdown",
      "metadata": {
        "_uuid": "7db4d68f577664d8360856c4c627eb02341200d2",
        "_cell_guid": "db24a396-6b0c-4225-98d1-f06a86d50900"
      },
      "source": "After checking out a few row plots, one thing jumps out at me: there's a huge seasonality to some of these page visits. ",
      "execution_count": null
    },
    {
      "outputs": [],
      "cell_type": "markdown",
      "metadata": {
        "_uuid": "dd7938aa333095e5389e5cfcd0f42871cdef42f4",
        "_cell_guid": "de37401d-858b-4a47-97ef-03a2f5563833"
      },
      "source": "Facebook has a library called Prophet. Below I'm pulling out one row, turning it into a DataFrame, and renaming the columns the way that Prophet expects.",
      "execution_count": null
    },
    {
      "outputs": [],
      "cell_type": "code",
      "metadata": {
        "_uuid": "a5d85b7f00037ea61def6486c1012b4417de6283",
        "_cell_guid": "c4f16003-14ef-4d98-b74e-6d5cb2fcde8c",
        "trusted": false
      },
      "source": "df = train_1.drop(train_1.columns[0], axis=1)\ndf.columns = pd.to_datetime(df.columns)\nseries = df.iloc[1]\ndf = series.to_frame().reset_index()\ndf = df.rename(columns={'index': 'ds', 1: 'y'})\ndf.head()",
      "execution_count": null
    },
    {
      "outputs": [],
      "cell_type": "code",
      "metadata": {
        "_uuid": "52516f548defd97aa7e167c3bb6ae1eafc271174",
        "_cell_guid": "4e52eaca-51ad-479d-aae4-f570718e0549",
        "trusted": false
      },
      "source": "m = Prophet()\nm.fit(df);\nfuture = m.make_future_dataframe(periods=30)\nfuture.tail()",
      "execution_count": null
    },
    {
      "outputs": [],
      "cell_type": "code",
      "metadata": {
        "_uuid": "94968c0793c478caf532bb8153ad6db367312cf4",
        "_cell_guid": "ddbf22d0-d40c-40db-90c1-0100b7c47405",
        "trusted": false
      },
      "source": "forecast = m.predict(future)\nforecast[['ds', 'yhat', 'yhat_lower', 'yhat_upper']].tail()",
      "execution_count": null
    },
    {
      "outputs": [],
      "cell_type": "code",
      "metadata": {
        "_uuid": "b99cf064b0ac09659603f336596761cd63b732ca",
        "_cell_guid": "1a463059-9052-470b-8e80-d93fa202bf14",
        "trusted": false
      },
      "source": "m.plot(forecast)\nm.plot_components(forecast);",
      "execution_count": null
    }
  ]
}