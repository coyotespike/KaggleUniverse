{
  "cells": [
    {
      "outputs": [],
      "metadata": {
        "collapsed": false,
        "_execution_state": "idle",
        "_uuid": "12d28ee4696d6d7be82e4c5ab6f2efe3a724273c",
        "_cell_guid": "b9500ed4-088f-4141-8aa2-3e1681e9c50b"
      },
      "cell_type": "markdown",
      "source": "# Problems with this notebook\n1. It does nothing intelligent with the days but simply whacks them all into one model;\n2. It uses atypical seasonal data (Christmas/New Year);\n3. It puts the same result for every predicted day in the output (just puts in a general page prediction);\n4. Please add more...\n\n# Next steps\nMy intuition is that we need to know what pages in the key we're dealing with and what dates. I recommend splitting (as I have at the moment) out the first column into two new columns giving us that information.\n\nThen, I think we put non-date-specific page predictions into each row and use them to make a new set of preditions based on them *and* the date to give us a final Visits column.\n\n# Current score\n86.1 already a big improvement on previous, but hasn't changed my place as a load of new people have jumped in with slightly lower scores.\n\n### Tips\nThis can be uploaded to Kaggle (using the up cloud button) and will work there once you add this competition's dataset, as the data is also stored in ../input/. You can download it to work on your own machine tinker with output etc. and, of course, to commit.",
      "execution_count": null
    },
    {
      "outputs": [],
      "metadata": {
        "_uuid": "4c0caa7ae3efd9c156e75dd30f1c07229ba0fe96",
        "_execution_state": "idle",
        "deletable": true,
        "_cell_guid": "092bedd9-d0e1-4eff-9540-6f0bcbc44e73",
        "collapsed": true,
        "editable": true,
        "trusted": false
      },
      "cell_type": "code",
      "source": "# Handy shizzle\nimport pandas as pd\nfrom sklearn.linear_model import LinearRegression",
      "execution_count": 1
    },
    {
      "outputs": [],
      "metadata": {
        "_uuid": "30c2dc7d61852dc7b73ab13d115b3218b205f40e",
        "_execution_state": "idle",
        "editable": true,
        "deletable": true,
        "_cell_guid": "8d770c78-927f-429a-9800-77a73cd0fab3"
      },
      "cell_type": "markdown",
      "source": "## With the whole thing?!",
      "execution_count": null
    },
    {
      "outputs": [],
      "metadata": {
        "_uuid": "d3120a6f93917c41f66bd194b15e571e250808b8",
        "_execution_state": "idle",
        "deletable": true,
        "_cell_guid": "e69db840-61fe-470c-a9ec-1a1487164967",
        "collapsed": false,
        "editable": true,
        "trusted": false
      },
      "cell_type": "code",
      "source": "# Get the data and tidy it up\ndf = pd.read_csv('../input/train_1.csv')\ndf = df.drop(df.columns[1:-9], axis=1).fillna(0)",
      "execution_count": 2
    },
    {
      "outputs": [],
      "metadata": {
        "collapsed": false,
        "_execution_state": "idle",
        "_uuid": "f9181e1f8a96ac6b889683ef7e9942e1febfab4e",
        "_cell_guid": "d1fa18fc-60bf-4f65-b170-e88143ee8c22",
        "trusted": false
      },
      "cell_type": "code",
      "source": "# Add spider variable\ndf['spider'] = 0\ndf.ix[df.Page.str.contains('spider'), 'spider'] = 1\n# Add desktop variable\ndf['desktop'] = 0\ndf.ix[df.Page.str.contains('desktop'), 'desktop'] = 1\ndf.head()",
      "execution_count": 3
    },
    {
      "outputs": [],
      "metadata": {
        "collapsed": false,
        "_execution_state": "idle",
        "_uuid": "19863b105d0dfb91658441b09a5a9bc494e47ef3",
        "_cell_guid": "cb12af17-1c0f-4c94-899f-73bf5a0800ee",
        "trusted": false
      },
      "cell_type": "code",
      "source": "df.ix[df.Page.str.contains('龙生九子_zh.wikipedia.org_mobile-web_all-agents')]",
      "execution_count": 26
    },
    {
      "outputs": [],
      "metadata": {
        "_uuid": "d55e1c072d479a91bbf2ea1b09233eae54e0b00c",
        "_execution_state": "idle",
        "deletable": true,
        "_cell_guid": "2b2bd761-9ceb-494e-8166-eb204d05d102",
        "collapsed": true,
        "editable": true,
        "trusted": false
      },
      "cell_type": "code",
      "source": "# Have a punt!\ndfLR = LinearRegression()\nx = df.drop(['Page', '2016-12-31'], axis=1)\ny = df['2016-12-31']",
      "execution_count": 4
    },
    {
      "outputs": [],
      "metadata": {
        "_uuid": "c4aabe83425873cfcf7de6adfd67020a88dd3213",
        "_execution_state": "idle",
        "deletable": true,
        "_cell_guid": "28bd350c-98c8-4224-b685-660c4c304ad7",
        "collapsed": false,
        "editable": true,
        "trusted": false
      },
      "cell_type": "code",
      "source": "dfLR.fit(x, y)",
      "execution_count": 5
    },
    {
      "outputs": [],
      "metadata": {
        "_uuid": "79c7833ecdd5293086bf5f833bad614a868a7100",
        "_execution_state": "idle",
        "deletable": true,
        "_cell_guid": "724b8f6a-581f-46d8-9504-acd9af9cb67d",
        "collapsed": false,
        "editable": true,
        "trusted": false
      },
      "cell_type": "code",
      "source": "dfLR.score(x, y)",
      "execution_count": 6
    },
    {
      "outputs": [],
      "metadata": {
        "_uuid": "456cf25df0f6ac92e41ea4f91d74120c07ba7598",
        "_execution_state": "idle",
        "deletable": true,
        "_cell_guid": "4a17dfab-c8be-4934-901f-83b91f3a6fc8",
        "collapsed": false,
        "editable": true,
        "trusted": false
      },
      "cell_type": "code",
      "source": "results = dfLR.predict(x)\nresults[0:10]",
      "execution_count": 7
    },
    {
      "outputs": [],
      "metadata": {
        "_uuid": "d0f020db508724a83e013dbe3aeb1835f629ae08",
        "_execution_state": "idle",
        "deletable": true,
        "_cell_guid": "1ec70c98-760d-4023-bfa8-50242391a6ba",
        "collapsed": false,
        "editable": true,
        "trusted": false
      },
      "cell_type": "code",
      "source": "results = [max(0, num) for num in results]\nresults[0:10]",
      "execution_count": 8
    },
    {
      "outputs": [],
      "metadata": {
        "_uuid": "a3e17e82201b88e2e37a241a63adbdd0ddf34253",
        "editable": true,
        "deletable": true,
        "_cell_guid": "03efcd94-04c1-4b55-8e72-b258179cf3ab"
      },
      "cell_type": "markdown",
      "source": "# Try a submission!",
      "execution_count": null
    },
    {
      "outputs": [],
      "metadata": {
        "_uuid": "6442ef4bde9c21901a9050c15278965c38332fc3",
        "_execution_state": "idle",
        "deletable": true,
        "_cell_guid": "1ea30352-9d12-47cc-b848-a86e7465c9fc",
        "collapsed": false,
        "editable": true,
        "trusted": false
      },
      "cell_type": "code",
      "source": "import pandas as pd\nss_df = pd.read_csv('../input/key_1.csv')\nss_df.head()",
      "execution_count": 9
    },
    {
      "outputs": [],
      "metadata": {
        "_uuid": "ac9a3bd7ae959ac4c9310740f75862be2b473f4f",
        "editable": true,
        "deletable": true,
        "_cell_guid": "1d353c90-2d13-4c97-a0d7-bea869354f3a"
      },
      "cell_type": "markdown",
      "source": "## Transferring data into correct rows in key",
      "execution_count": null
    },
    {
      "outputs": [],
      "metadata": {
        "_uuid": "ddb54a7dcca7650a8bf48c8e12d393b3b4fdbd6a",
        "_execution_state": "idle",
        "deletable": true,
        "_cell_guid": "372909b3-38a8-4669-9f6c-27fe62b6df78",
        "collapsed": false,
        "editable": true,
        "trusted": false
      },
      "cell_type": "code",
      "source": "# The plan is to cut dates out of names\n# and copy results by name from df into here\n# First add results to df.\npages_with_results = pd.concat([df, pd.DataFrame(results, columns=['Visits'])], axis=1)\npages_with_results.head()",
      "execution_count": 10
    },
    {
      "outputs": [],
      "metadata": {
        "_uuid": "b73d399cf28aa0985ae191862c231b243760c5cb",
        "_execution_state": "idle",
        "deletable": true,
        "_cell_guid": "12167b67-0287-4e70-93ff-530e5fb4e7e8",
        "collapsed": true,
        "editable": true,
        "trusted": false
      },
      "cell_type": "code",
      "source": "# Get the page names\nss_df['Page'] = [name.split('_2017')[0] for name in ss_df['Page'].values]",
      "execution_count": 11
    },
    {
      "outputs": [],
      "metadata": {
        "_uuid": "d1f1211f068732b17231088094461f106ae2e7b1",
        "_execution_state": "idle",
        "deletable": true,
        "_cell_guid": "6f4c8319-35b1-4fa2-815a-b026229a6b43",
        "collapsed": false,
        "editable": true,
        "trusted": false
      },
      "cell_type": "code",
      "source": "\nss_df['Visits'] = 0\nss_df",
      "execution_count": 12
    },
    {
      "outputs": [],
      "metadata": {
        "_uuid": "bf0c0e5f9f74bdc32639bcb9fbff5cb36a2ef59b",
        "_execution_state": "idle",
        "deletable": true,
        "_cell_guid": "3275d043-353a-41cd-9172-225476f99efc",
        "collapsed": false,
        "editable": true,
        "trusted": false
      },
      "cell_type": "code",
      "source": "# makes it easier to map visits from their page\nss_df['Visits'] = ss_df['Page']\nss_df.head()",
      "execution_count": 13
    },
    {
      "outputs": [],
      "metadata": {
        "_uuid": "c2c0826371cc210656965ada26a6daee84a0525c",
        "_execution_state": "idle",
        "deletable": true,
        "_cell_guid": "fe903be5-a1ad-4201-a071-b7cbea2842cc",
        "collapsed": false,
        "editable": true,
        "trusted": false
      },
      "cell_type": "code",
      "source": "#ss_df['Visits'] = [get_results_for_page(page) for page in ss_df['Page'].values]\nss_df",
      "execution_count": 14
    },
    {
      "outputs": [],
      "metadata": {
        "collapsed": false,
        "_execution_state": "idle",
        "_uuid": "57f0b22d658a96295aecc2eaf6c4ed74a7b08f6c",
        "_cell_guid": "4ca5c081-9683-4a9f-bd4c-60676d7225d8",
        "trusted": false
      },
      "cell_type": "code",
      "source": "# df of results indexed by page--makes mapping quicker\npage_indexed_visits = pages_with_results.set_index(df['Page'])\npage_indexed_visits.ix['!vote_en.wikipedia.org_all-access_all-agents', 'Visits']",
      "execution_count": 15
    },
    {
      "outputs": [],
      "metadata": {
        "_uuid": "3c6a92c65616a68a8162c513bb8eed5f8675ef9e",
        "_execution_state": "idle",
        "deletable": true,
        "_cell_guid": "45380c76-417d-481f-9676-550832535653",
        "collapsed": false,
        "editable": true,
        "trusted": false
      },
      "cell_type": "code",
      "source": "# stops fatal error on missing data\ndef get_page_visits (page):\n    try:\n        return page_indexed_visits.ix[page, 'Visits']\n    except KeyError:\n        return 0\n    \nget_page_visits('龙生九子_zh.wikipedia.org_mobile-web_all-agents')",
      "execution_count": 16
    },
    {
      "outputs": [],
      "metadata": {
        "collapsed": false,
        "_execution_state": "idle",
        "_uuid": "ef5e83e62725da479f725d9108e7d31bd1a87cea",
        "_cell_guid": "fbc94f01-963c-4505-8521-ab61898110c8",
        "trusted": false
      },
      "cell_type": "code",
      "source": "ss_df['Visits'] = ss_df.Visits.map(get_page_visits)",
      "execution_count": 17
    },
    {
      "outputs": [],
      "metadata": {
        "_uuid": "40706427bf3a627d8468132e6d0a1a26c80e0134",
        "_execution_state": "idle",
        "deletable": true,
        "_cell_guid": "fea3d305-5884-4e1a-a0b2-ebdadf953ad4",
        "collapsed": false,
        "editable": true,
        "trusted": false
      },
      "cell_type": "code",
      "source": "ss_df.tail()",
      "execution_count": 18
    },
    {
      "outputs": [],
      "metadata": {
        "_uuid": "edd89ac7dbacd582743e4509501f4e4822ac40df",
        "editable": true,
        "deletable": true,
        "_cell_guid": "eef45213-3c50-41d9-adb2-42ef37ddb33e"
      },
      "cell_type": "markdown",
      "source": "## Export!",
      "execution_count": null
    },
    {
      "outputs": [],
      "metadata": {
        "_uuid": "d9c496d1223dafa8c5019c735929c5c35a3dc258",
        "_execution_state": "idle",
        "deletable": true,
        "_cell_guid": "2dc0e555-7efb-4fea-a4d8-cf6bb1ac7be9",
        "collapsed": true,
        "editable": true,
        "trusted": false
      },
      "cell_type": "code",
      "source": "ss_df.drop(['Page'], axis=1).to_csv('PWM_ss.csv', index=False, header=True)",
      "execution_count": 21
    },
    {
      "outputs": [],
      "metadata": {
        "_uuid": "68ace1fdf83853a3d7b102227f80403b5c7eac6e",
        "_execution_state": "idle",
        "deletable": true,
        "_cell_guid": "3ca7f296-6a2b-4ed5-9ce2-98b862ed0f4d",
        "collapsed": false,
        "editable": true,
        "trusted": false
      },
      "cell_type": "code",
      "source": "test = pd.read_csv('PWM_ss.csv')",
      "execution_count": 23
    },
    {
      "outputs": [],
      "metadata": {
        "_uuid": "cd7187b3d9f43290f1824de5e398c2ee15540529",
        "_execution_state": "idle",
        "deletable": true,
        "_cell_guid": "321d0834-ee61-4c30-91e3-6717fa2a11cd",
        "collapsed": false,
        "editable": true,
        "trusted": false
      },
      "cell_type": "code",
      "source": "test.head()",
      "execution_count": 24
    },
    {
      "outputs": [],
      "metadata": {
        "_uuid": "9c263bf12ce8f284db7c5affd1008e9e354781a8",
        "_execution_state": "idle",
        "deletable": true,
        "_cell_guid": "df5f9f2b-11a5-431b-869a-a6d3d1ac8d6a",
        "collapsed": false,
        "editable": true,
        "trusted": false
      },
      "cell_type": "code",
      "source": "test.tail()",
      "execution_count": 25
    }
  ],
  "nbformat": 4,
  "metadata": {
    "widgets": {
      "application/vnd.jupyter.widget-state+json": {
        "state": {},
        "version_major": 1,
        "version_minor": 0
      }
    },
    "language_info": {
      "name": "python",
      "version": "3.6.1",
      "mimetype": "text/x-python",
      "codemirror_mode": {
        "name": "ipython",
        "version": 3
      },
      "pygments_lexer": "ipython3",
      "nbconvert_exporter": "python",
      "file_extension": ".py"
    },
    "kernelspec": {
      "display_name": "Python 3",
      "language": "python",
      "name": "python3"
    }
  },
  "nbformat_minor": 2
}