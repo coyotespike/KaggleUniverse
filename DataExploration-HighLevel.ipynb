{
 "cells": [
  {
   "cell_type": "markdown",
   "metadata": {},
   "source": [
    "# High-level overview\n",
    "#### This is so tha I can get to grips with the 'shape' of the data and understand its layout. It's a little explicit but will hopefully be useful for new team member."
   ]
  },
  {
   "cell_type": "markdown",
   "metadata": {},
   "source": [
    "Create shortened copy of data--I also experienced much crashing!"
   ]
  },
  {
   "cell_type": "code",
   "execution_count": null,
   "metadata": {
    "collapsed": true
   },
   "outputs": [],
   "source": [
    "! head -n 1000 train_1.csv > copytrain1000.csv"
   ]
  },
  {
   "cell_type": "markdown",
   "metadata": {},
   "source": [
    "## Role of columns\n",
    "Page name\n",
    "Traffic per day"
   ]
  },
  {
   "cell_type": "code",
   "execution_count": 29,
   "metadata": {},
   "outputs": [
    {
     "name": "stdout",
     "output_type": "stream",
     "text": [
      "                                                 Page  2015-07-01  2015-07-02\n",
      "12  All_your_base_are_belong_to_us_zh.wikipedia.or...         2.0         5.0\n",
      "13         AlphaGo_zh.wikipedia.org_all-access_spider         NaN         NaN\n",
      "14         Android_zh.wikipedia.org_all-access_spider         8.0        27.0\n",
      "15      Angelababy_zh.wikipedia.org_all-access_spider        40.0        17.0\n",
      "16           Apink_zh.wikipedia.org_all-access_spider        61.0        33.0\n"
     ]
    }
   ],
   "source": [
    "# import data into pandas datafram\n",
    "import pandas as pd\n",
    "data = pd.read_csv('copytrain1000.csv')\n",
    "# get ourselves a usable chunk with interesting names\n",
    "exploratory_chunk = data[12:17]\n",
    "# is there a neater way of doing the below? I wanted a 'range' of the columns\n",
    "print(exploratory_chunk[exploratory_chunk.columns[0:3]])"
   ]
  },
  {
   "cell_type": "markdown",
   "metadata": {},
   "source": [
    "## Anatomy of page name\n",
    "NameOfArticle_WhichWikiPediaProject_Type_Agent"
   ]
  },
  {
   "cell_type": "code",
   "execution_count": 16,
   "metadata": {},
   "outputs": [
    {
     "data": {
      "text/plain": [
       "12    All_your_base_are_belong_to_us_zh.wikipedia.or...\n",
       "13           AlphaGo_zh.wikipedia.org_all-access_spider\n",
       "14           Android_zh.wikipedia.org_all-access_spider\n",
       "15        Angelababy_zh.wikipedia.org_all-access_spider\n",
       "16             Apink_zh.wikipedia.org_all-access_spider\n",
       "Name: Page, dtype: object"
      ]
     },
     "execution_count": 16,
     "metadata": {},
     "output_type": "execute_result"
    }
   ],
   "source": [
    "exploratory_chunk['Page']"
   ]
  },
  {
   "cell_type": "markdown",
   "metadata": {},
   "source": [
    "#### Looks like the first 1,000 are all spiders. Are they likely to be a useful predictor? On the one hand they're not humans, but they are indicators of links to pages if I understand correctly. That may indirectly make them helpful."
   ]
  },
  {
   "cell_type": "code",
   "execution_count": 32,
   "metadata": {},
   "outputs": [
    {
     "data": {
      "text/plain": [
       "[]"
      ]
     },
     "execution_count": 32,
     "metadata": {},
     "output_type": "execute_result"
    }
   ],
   "source": [
    "[page_name for page_name in data['Page'].values if 'spider' not in page_name]"
   ]
  },
  {
   "cell_type": "code",
   "execution_count": null,
   "metadata": {
    "collapsed": true
   },
   "outputs": [],
   "source": []
  }
 ],
 "metadata": {
  "kernelspec": {
   "display_name": "Python 3",
   "language": "python",
   "name": "python3"
  },
  "language_info": {
   "codemirror_mode": {
    "name": "ipython",
    "version": 3
   },
   "file_extension": ".py",
   "mimetype": "text/x-python",
   "name": "python",
   "nbconvert_exporter": "python",
   "pygments_lexer": "ipython3",
   "version": "3.6.1"
  },
  "widgets": {
   "application/vnd.jupyter.widget-state+json": {
    "state": {},
    "version_major": 1,
    "version_minor": 0
   }
  }
 },
 "nbformat": 4,
 "nbformat_minor": 2
}
