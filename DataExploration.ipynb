{
 "cells": [
  {
   "cell_type": "markdown",
   "metadata": {},
   "source": [
    "Here we'll start getting our data. 'copytrain1000.cs' is simply a copy of the first 1000 lines of 'train_1.csv'."
   ]
  },
  {
   "cell_type": "code",
   "execution_count": 1,
   "metadata": {},
   "outputs": [
    {
     "ename": "SyntaxError",
     "evalue": "invalid syntax (<ipython-input-1-7fb02f5e5287>, line 1)",
     "output_type": "error",
     "traceback": [
      "\u001b[0;36m  File \u001b[0;32m\"<ipython-input-1-7fb02f5e5287>\"\u001b[0;36m, line \u001b[0;32m1\u001b[0m\n\u001b[0;31m    head -n 1000 train_1.csv > work/copytrain1000.csv\u001b[0m\n\u001b[0m               ^\u001b[0m\n\u001b[0;31mSyntaxError\u001b[0m\u001b[0;31m:\u001b[0m invalid syntax\n"
     ]
    }
   ],
   "source": [
    "head -n 1000 train_1.csv > work/copytrain1000.csv"
   ]
  },
  {
   "cell_type": "markdown",
   "metadata": {},
   "source": [
    "The kernel here in the notebook kept crashing when attempting to work with the entire file. This will have to be solved somehow. Anyway, let's start exploring the data."
   ]
  },
  {
   "cell_type": "code",
   "execution_count": 1,
   "metadata": {},
   "outputs": [
    {
     "name": "stdout",
     "output_type": "stream",
     "text": [
      "                                                Page  2015-07-01  2015-07-02  \\\n",
      "0            2NE1_zh.wikipedia.org_all-access_spider        18.0        11.0   \n",
      "1             2PM_zh.wikipedia.org_all-access_spider        11.0        14.0   \n",
      "2              3C_zh.wikipedia.org_all-access_spider         1.0         0.0   \n",
      "3         4minute_zh.wikipedia.org_all-access_spider        35.0        13.0   \n",
      "4  52_Hz_I_Love_You_zh.wikipedia.org_all-access_s...         NaN         NaN   \n",
      "\n",
      "   2015-07-03  2015-07-04  2015-07-05  2015-07-06  2015-07-07  2015-07-08  \\\n",
      "0         5.0        13.0        14.0         9.0         9.0        22.0   \n",
      "1        15.0        18.0        11.0        13.0        22.0        11.0   \n",
      "2         1.0         1.0         0.0         4.0         0.0         3.0   \n",
      "3        10.0        94.0         4.0        26.0        14.0         9.0   \n",
      "4         NaN         NaN         NaN         NaN         NaN         NaN   \n",
      "\n",
      "   2015-07-09     ...      2016-12-22  2016-12-23  2016-12-24  2016-12-25  \\\n",
      "0        26.0     ...            32.0        63.0        15.0        26.0   \n",
      "1        10.0     ...            17.0        42.0        28.0        15.0   \n",
      "2         4.0     ...             3.0         1.0         1.0         7.0   \n",
      "3        11.0     ...            32.0        10.0        26.0        27.0   \n",
      "4         NaN     ...            48.0         9.0        25.0        13.0   \n",
      "\n",
      "   2016-12-26  2016-12-27  2016-12-28  2016-12-29  2016-12-30  2016-12-31  \n",
      "0        14.0        20.0        22.0        19.0        18.0        20.0  \n",
      "1         9.0        30.0        52.0        45.0        26.0        20.0  \n",
      "2         4.0         4.0         6.0         3.0         4.0        17.0  \n",
      "3        16.0        11.0        17.0        19.0        10.0        11.0  \n",
      "4         3.0        11.0        27.0        13.0        36.0        10.0  \n",
      "\n",
      "[5 rows x 551 columns]\n"
     ]
    }
   ],
   "source": [
    "import pandas as pd\n",
    "data = pd.read_csv('copytrain1000.csv')\n",
    "print data.head()"
   ]
  },
  {
   "cell_type": "markdown",
   "metadata": {},
   "source": [
    "The below attempts to load the file into a squlite database. It took a long time to crash so perhaps we are getting closer. I probably need to upgrade the droplet/server!"
   ]
  },
  {
   "cell_type": "code",
   "execution_count": null,
   "metadata": {
    "collapsed": true
   },
   "outputs": [],
   "source": [
    "from sqlalchemy import create_engine\n",
    "csv_database = create_engine('sqlite:///csv_database.db')\n",
    "\n",
    "chunksize = 100000\n",
    "i = 0\n",
    "j = 1\n",
    "for df in pd.read_csv(file, chunksize=chunksize, iterator=True):\n",
    "      df = df.rename(columns={c: c.replace(' ', '') for c in df.columns}) \n",
    "      df.index += j\n",
    "      i+=1\n",
    "      df.to_sql('table', csv_database, if_exists='append')\n",
    "      j = df.index[-1] + 1"
   ]
  }
 ],
 "metadata": {
  "kernelspec": {
   "display_name": "Python 2",
   "language": "python",
   "name": "python2"
  },
  "language_info": {
   "codemirror_mode": {
    "name": "ipython",
    "version": 2
   },
   "file_extension": ".py",
   "mimetype": "text/x-python",
   "name": "python",
   "nbconvert_exporter": "python",
   "pygments_lexer": "ipython2",
   "version": "2.7.13"
  }
 },
 "nbformat": 4,
 "nbformat_minor": 2
}
